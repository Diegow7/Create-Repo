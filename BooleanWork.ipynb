{
  "nbformat": 4,
  "nbformat_minor": 0,
  "metadata": {
    "colab": {
      "provenance": [],
      "include_colab_link": true
    },
    "kernelspec": {
      "name": "python3",
      "display_name": "Python 3"
    },
    "language_info": {
      "name": "python"
    },
    "widgets": {
      "application/vnd.jupyter.widget-state+json": {
        "2448ad58ed25410fad01643350bb334c": {
          "model_module": "@jupyter-widgets/controls",
          "model_name": "VBoxModel",
          "model_module_version": "1.5.0",
          "state": {
            "_dom_classes": [],
            "_model_module": "@jupyter-widgets/controls",
            "_model_module_version": "1.5.0",
            "_model_name": "VBoxModel",
            "_view_count": null,
            "_view_module": "@jupyter-widgets/controls",
            "_view_module_version": "1.5.0",
            "_view_name": "VBoxView",
            "box_style": "",
            "children": [
              "IPY_MODEL_89d95f7321634f3d8a9296965557fae8",
              "IPY_MODEL_9a8ee5c6f7a14198a6da9e1905d4ecd1"
            ],
            "layout": "IPY_MODEL_92e83bb9078542f89b2c8ace7e8e8705"
          }
        },
        "89d95f7321634f3d8a9296965557fae8": {
          "model_module": "@jupyter-widgets/controls",
          "model_name": "TextModel",
          "model_module_version": "1.5.0",
          "state": {
            "_dom_classes": [],
            "_model_module": "@jupyter-widgets/controls",
            "_model_module_version": "1.5.0",
            "_model_name": "TextModel",
            "_view_count": null,
            "_view_module": "@jupyter-widgets/controls",
            "_view_module_version": "1.5.0",
            "_view_name": "TextView",
            "continuous_update": true,
            "description": "Word to search:",
            "description_tooltip": null,
            "disabled": false,
            "layout": "IPY_MODEL_e5fafb321bec436caf49f93babbe5d49",
            "placeholder": "Enter word...",
            "style": "IPY_MODEL_8eb10bf95bc84cfca7447899eb3d523d",
            "value": "blown"
          }
        },
        "9a8ee5c6f7a14198a6da9e1905d4ecd1": {
          "model_module": "@jupyter-widgets/controls",
          "model_name": "LabelModel",
          "model_module_version": "1.5.0",
          "state": {
            "_dom_classes": [],
            "_model_module": "@jupyter-widgets/controls",
            "_model_module_version": "1.5.0",
            "_model_name": "LabelModel",
            "_view_count": null,
            "_view_module": "@jupyter-widgets/controls",
            "_view_module_version": "1.5.0",
            "_view_name": "LabelView",
            "description": "Search Results:",
            "description_tooltip": null,
            "layout": "IPY_MODEL_81b65ed95681485aa6572f360b14b32e",
            "placeholder": "​",
            "style": "IPY_MODEL_a376db39518340509b41ff02b7d2570a",
            "value": "The word 'blown' is found in the following books:\n- pg16.txt: 7 times\n- pg11.txt: 1 times\n\nSearch time: 0.0243 seconds"
          }
        },
        "92e83bb9078542f89b2c8ace7e8e8705": {
          "model_module": "@jupyter-widgets/base",
          "model_name": "LayoutModel",
          "model_module_version": "1.2.0",
          "state": {
            "_model_module": "@jupyter-widgets/base",
            "_model_module_version": "1.2.0",
            "_model_name": "LayoutModel",
            "_view_count": null,
            "_view_module": "@jupyter-widgets/base",
            "_view_module_version": "1.2.0",
            "_view_name": "LayoutView",
            "align_content": null,
            "align_items": null,
            "align_self": null,
            "border": null,
            "bottom": null,
            "display": null,
            "flex": null,
            "flex_flow": null,
            "grid_area": null,
            "grid_auto_columns": null,
            "grid_auto_flow": null,
            "grid_auto_rows": null,
            "grid_column": null,
            "grid_gap": null,
            "grid_row": null,
            "grid_template_areas": null,
            "grid_template_columns": null,
            "grid_template_rows": null,
            "height": null,
            "justify_content": null,
            "justify_items": null,
            "left": null,
            "margin": null,
            "max_height": null,
            "max_width": null,
            "min_height": null,
            "min_width": null,
            "object_fit": null,
            "object_position": null,
            "order": null,
            "overflow": null,
            "overflow_x": null,
            "overflow_y": null,
            "padding": null,
            "right": null,
            "top": null,
            "visibility": null,
            "width": null
          }
        },
        "e5fafb321bec436caf49f93babbe5d49": {
          "model_module": "@jupyter-widgets/base",
          "model_name": "LayoutModel",
          "model_module_version": "1.2.0",
          "state": {
            "_model_module": "@jupyter-widgets/base",
            "_model_module_version": "1.2.0",
            "_model_name": "LayoutModel",
            "_view_count": null,
            "_view_module": "@jupyter-widgets/base",
            "_view_module_version": "1.2.0",
            "_view_name": "LayoutView",
            "align_content": null,
            "align_items": null,
            "align_self": null,
            "border": null,
            "bottom": null,
            "display": null,
            "flex": null,
            "flex_flow": null,
            "grid_area": null,
            "grid_auto_columns": null,
            "grid_auto_flow": null,
            "grid_auto_rows": null,
            "grid_column": null,
            "grid_gap": null,
            "grid_row": null,
            "grid_template_areas": null,
            "grid_template_columns": null,
            "grid_template_rows": null,
            "height": null,
            "justify_content": null,
            "justify_items": null,
            "left": null,
            "margin": null,
            "max_height": null,
            "max_width": null,
            "min_height": null,
            "min_width": null,
            "object_fit": null,
            "object_position": null,
            "order": null,
            "overflow": null,
            "overflow_x": null,
            "overflow_y": null,
            "padding": null,
            "right": null,
            "top": null,
            "visibility": null,
            "width": null
          }
        },
        "8eb10bf95bc84cfca7447899eb3d523d": {
          "model_module": "@jupyter-widgets/controls",
          "model_name": "DescriptionStyleModel",
          "model_module_version": "1.5.0",
          "state": {
            "_model_module": "@jupyter-widgets/controls",
            "_model_module_version": "1.5.0",
            "_model_name": "DescriptionStyleModel",
            "_view_count": null,
            "_view_module": "@jupyter-widgets/base",
            "_view_module_version": "1.2.0",
            "_view_name": "StyleView",
            "description_width": ""
          }
        },
        "81b65ed95681485aa6572f360b14b32e": {
          "model_module": "@jupyter-widgets/base",
          "model_name": "LayoutModel",
          "model_module_version": "1.2.0",
          "state": {
            "_model_module": "@jupyter-widgets/base",
            "_model_module_version": "1.2.0",
            "_model_name": "LayoutModel",
            "_view_count": null,
            "_view_module": "@jupyter-widgets/base",
            "_view_module_version": "1.2.0",
            "_view_name": "LayoutView",
            "align_content": null,
            "align_items": null,
            "align_self": null,
            "border": null,
            "bottom": null,
            "display": null,
            "flex": null,
            "flex_flow": null,
            "grid_area": null,
            "grid_auto_columns": null,
            "grid_auto_flow": null,
            "grid_auto_rows": null,
            "grid_column": null,
            "grid_gap": null,
            "grid_row": null,
            "grid_template_areas": null,
            "grid_template_columns": null,
            "grid_template_rows": null,
            "height": null,
            "justify_content": null,
            "justify_items": null,
            "left": null,
            "margin": null,
            "max_height": null,
            "max_width": null,
            "min_height": null,
            "min_width": null,
            "object_fit": null,
            "object_position": null,
            "order": null,
            "overflow": null,
            "overflow_x": null,
            "overflow_y": null,
            "padding": null,
            "right": null,
            "top": null,
            "visibility": null,
            "width": null
          }
        },
        "a376db39518340509b41ff02b7d2570a": {
          "model_module": "@jupyter-widgets/controls",
          "model_name": "DescriptionStyleModel",
          "model_module_version": "1.5.0",
          "state": {
            "_model_module": "@jupyter-widgets/controls",
            "_model_module_version": "1.5.0",
            "_model_name": "DescriptionStyleModel",
            "_view_count": null,
            "_view_module": "@jupyter-widgets/base",
            "_view_module_version": "1.2.0",
            "_view_name": "StyleView",
            "description_width": ""
          }
        },
        "120129ce536b4aa18ea0cad47ea4d8a1": {
          "model_module": "@jupyter-widgets/controls",
          "model_name": "VBoxModel",
          "model_module_version": "1.5.0",
          "state": {
            "_dom_classes": [],
            "_model_module": "@jupyter-widgets/controls",
            "_model_module_version": "1.5.0",
            "_model_name": "VBoxModel",
            "_view_count": null,
            "_view_module": "@jupyter-widgets/controls",
            "_view_module_version": "1.5.0",
            "_view_name": "VBoxView",
            "box_style": "",
            "children": [
              "IPY_MODEL_c01bc460dbb545ab9e9295e3ef847e87",
              "IPY_MODEL_22f4bdc6a23d4be38cf2dd94437d4d84"
            ],
            "layout": "IPY_MODEL_d470a1e192ed434483063f9f548cc9c0"
          }
        },
        "c01bc460dbb545ab9e9295e3ef847e87": {
          "model_module": "@jupyter-widgets/controls",
          "model_name": "TextModel",
          "model_module_version": "1.5.0",
          "state": {
            "_dom_classes": [],
            "_model_module": "@jupyter-widgets/controls",
            "_model_module_version": "1.5.0",
            "_model_name": "TextModel",
            "_view_count": null,
            "_view_module": "@jupyter-widgets/controls",
            "_view_module_version": "1.5.0",
            "_view_name": "TextView",
            "continuous_update": true,
            "description": "Word to search:",
            "description_tooltip": null,
            "disabled": false,
            "layout": "IPY_MODEL_b81e18bd2c6d45a0b4c900090d9eeedc",
            "placeholder": "Enter word...",
            "style": "IPY_MODEL_b92e52b733644081b91ab5ffa4f3ab3a",
            "value": "blown"
          }
        },
        "22f4bdc6a23d4be38cf2dd94437d4d84": {
          "model_module": "@jupyter-widgets/controls",
          "model_name": "LabelModel",
          "model_module_version": "1.5.0",
          "state": {
            "_dom_classes": [],
            "_model_module": "@jupyter-widgets/controls",
            "_model_module_version": "1.5.0",
            "_model_name": "LabelModel",
            "_view_count": null,
            "_view_module": "@jupyter-widgets/controls",
            "_view_module_version": "1.5.0",
            "_view_name": "LabelView",
            "description": "Search Results:",
            "description_tooltip": null,
            "layout": "IPY_MODEL_9e5795d24a0141f39609045cc4cedfbc",
            "placeholder": "​",
            "style": "IPY_MODEL_d206e9b6b8134d02bb3bfdfb9c796d0d",
            "value": "The word 'blown' is found in the following books:\n- pg16.txt\n- pg11.txt\n\nSearch time: 0.0027 seconds"
          }
        },
        "d470a1e192ed434483063f9f548cc9c0": {
          "model_module": "@jupyter-widgets/base",
          "model_name": "LayoutModel",
          "model_module_version": "1.2.0",
          "state": {
            "_model_module": "@jupyter-widgets/base",
            "_model_module_version": "1.2.0",
            "_model_name": "LayoutModel",
            "_view_count": null,
            "_view_module": "@jupyter-widgets/base",
            "_view_module_version": "1.2.0",
            "_view_name": "LayoutView",
            "align_content": null,
            "align_items": null,
            "align_self": null,
            "border": null,
            "bottom": null,
            "display": null,
            "flex": null,
            "flex_flow": null,
            "grid_area": null,
            "grid_auto_columns": null,
            "grid_auto_flow": null,
            "grid_auto_rows": null,
            "grid_column": null,
            "grid_gap": null,
            "grid_row": null,
            "grid_template_areas": null,
            "grid_template_columns": null,
            "grid_template_rows": null,
            "height": null,
            "justify_content": null,
            "justify_items": null,
            "left": null,
            "margin": null,
            "max_height": null,
            "max_width": null,
            "min_height": null,
            "min_width": null,
            "object_fit": null,
            "object_position": null,
            "order": null,
            "overflow": null,
            "overflow_x": null,
            "overflow_y": null,
            "padding": null,
            "right": null,
            "top": null,
            "visibility": null,
            "width": null
          }
        },
        "b81e18bd2c6d45a0b4c900090d9eeedc": {
          "model_module": "@jupyter-widgets/base",
          "model_name": "LayoutModel",
          "model_module_version": "1.2.0",
          "state": {
            "_model_module": "@jupyter-widgets/base",
            "_model_module_version": "1.2.0",
            "_model_name": "LayoutModel",
            "_view_count": null,
            "_view_module": "@jupyter-widgets/base",
            "_view_module_version": "1.2.0",
            "_view_name": "LayoutView",
            "align_content": null,
            "align_items": null,
            "align_self": null,
            "border": null,
            "bottom": null,
            "display": null,
            "flex": null,
            "flex_flow": null,
            "grid_area": null,
            "grid_auto_columns": null,
            "grid_auto_flow": null,
            "grid_auto_rows": null,
            "grid_column": null,
            "grid_gap": null,
            "grid_row": null,
            "grid_template_areas": null,
            "grid_template_columns": null,
            "grid_template_rows": null,
            "height": null,
            "justify_content": null,
            "justify_items": null,
            "left": null,
            "margin": null,
            "max_height": null,
            "max_width": null,
            "min_height": null,
            "min_width": null,
            "object_fit": null,
            "object_position": null,
            "order": null,
            "overflow": null,
            "overflow_x": null,
            "overflow_y": null,
            "padding": null,
            "right": null,
            "top": null,
            "visibility": null,
            "width": null
          }
        },
        "b92e52b733644081b91ab5ffa4f3ab3a": {
          "model_module": "@jupyter-widgets/controls",
          "model_name": "DescriptionStyleModel",
          "model_module_version": "1.5.0",
          "state": {
            "_model_module": "@jupyter-widgets/controls",
            "_model_module_version": "1.5.0",
            "_model_name": "DescriptionStyleModel",
            "_view_count": null,
            "_view_module": "@jupyter-widgets/base",
            "_view_module_version": "1.2.0",
            "_view_name": "StyleView",
            "description_width": ""
          }
        },
        "9e5795d24a0141f39609045cc4cedfbc": {
          "model_module": "@jupyter-widgets/base",
          "model_name": "LayoutModel",
          "model_module_version": "1.2.0",
          "state": {
            "_model_module": "@jupyter-widgets/base",
            "_model_module_version": "1.2.0",
            "_model_name": "LayoutModel",
            "_view_count": null,
            "_view_module": "@jupyter-widgets/base",
            "_view_module_version": "1.2.0",
            "_view_name": "LayoutView",
            "align_content": null,
            "align_items": null,
            "align_self": null,
            "border": null,
            "bottom": null,
            "display": null,
            "flex": null,
            "flex_flow": null,
            "grid_area": null,
            "grid_auto_columns": null,
            "grid_auto_flow": null,
            "grid_auto_rows": null,
            "grid_column": null,
            "grid_gap": null,
            "grid_row": null,
            "grid_template_areas": null,
            "grid_template_columns": null,
            "grid_template_rows": null,
            "height": null,
            "justify_content": null,
            "justify_items": null,
            "left": null,
            "margin": null,
            "max_height": null,
            "max_width": null,
            "min_height": null,
            "min_width": null,
            "object_fit": null,
            "object_position": null,
            "order": null,
            "overflow": null,
            "overflow_x": null,
            "overflow_y": null,
            "padding": null,
            "right": null,
            "top": null,
            "visibility": null,
            "width": null
          }
        },
        "d206e9b6b8134d02bb3bfdfb9c796d0d": {
          "model_module": "@jupyter-widgets/controls",
          "model_name": "DescriptionStyleModel",
          "model_module_version": "1.5.0",
          "state": {
            "_model_module": "@jupyter-widgets/controls",
            "_model_module_version": "1.5.0",
            "_model_name": "DescriptionStyleModel",
            "_view_count": null,
            "_view_module": "@jupyter-widgets/base",
            "_view_module_version": "1.2.0",
            "_view_name": "StyleView",
            "description_width": ""
          }
        }
      }
    }
  },
  "cells": [
    {
      "cell_type": "markdown",
      "metadata": {
        "id": "view-in-github",
        "colab_type": "text"
      },
      "source": [
        "<a href=\"https://colab.research.google.com/github/Diegow7/Create-Repo/blob/main/BooleanWork.ipynb\" target=\"_parent\"><img src=\"https://colab.research.google.com/assets/colab-badge.svg\" alt=\"Open In Colab\"/></a>"
      ]
    },
    {
      "cell_type": "markdown",
      "source": [
        "**Information of the Retrieval**\n",
        "\n",
        "**Homework 2**\n",
        "\n",
        "**Topic: Basic Boolean Search in Documents**\n",
        "\n",
        "**Objective**\n",
        "Expand the simple term search functionality to include Boolean search capabilities. This will allow users to perform more complex queries by combining multiple search terms using Boolean operators."
      ],
      "metadata": {
        "id": "55w2LM7i8ex7"
      }
    },
    {
      "cell_type": "markdown",
      "source": [
        "1. Term Search in Documents without basic boolean"
      ],
      "metadata": {
        "id": "DbwgNmov_icm"
      }
    },
    {
      "cell_type": "code",
      "source": [
        "import os\n",
        "import re\n",
        "import time\n",
        "import pandas as pd\n",
        "from ipywidgets import widgets, VBox, Label"
      ],
      "metadata": {
        "id": "ppG2d0ZOH1j9"
      },
      "execution_count": 52,
      "outputs": []
    },
    {
      "cell_type": "code",
      "execution_count": 24,
      "metadata": {
        "id": "3ix8V5wF8Efa"
      },
      "outputs": [],
      "source": [
        "# Ruta de la carpeta\n",
        "folder_path = \"/content/data\"\n",
        "\n",
        "# Lista para almacenar los contenidos de los archivos\n",
        "file_contents = []\n",
        "\n",
        "# Iterar sobre los archivos en la carpeta\n",
        "for filename in os.listdir(folder_path):\n",
        "    # Comprobar si es un archivo de texto\n",
        "    if filename.endswith(\".txt\"):\n",
        "        # Leer el contenido del archivo y añadirlo a la lista\n",
        "        with open(os.path.join(folder_path, filename), \"r\") as file:\n",
        "            file_contents.append(file.read())"
      ]
    },
    {
      "cell_type": "code",
      "source": [
        "import os\n",
        "import time\n",
        "\n",
        "# Función para buscar una palabra en los archivos de una carpeta\n",
        "def search_word_in_files(word, folder):\n",
        "    start_time = time.time()  # Registro del tiempo de inicio\n",
        "    books_with_word = {}\n",
        "    for file in os.listdir(folder):\n",
        "        if file.endswith('.txt'):\n",
        "            file_path = os.path.join(folder, file)\n",
        "            with open(file_path, 'r', encoding='utf-8') as f:\n",
        "                content = f.read()\n",
        "                words = content.lower().split()  # Dividir el contenido en palabras\n",
        "                occurrences = sum(1 for w in words if word.lower() in w)  # Contar las ocurrencias de la palabra completa\n",
        "                if occurrences > 0:\n",
        "                    books_with_word[file] = occurrences\n",
        "    end_time = time.time()  # Registro del tiempo de finalización\n",
        "    search_time = end_time - start_time  # Calcula el tiempo transcurrido\n",
        "    return books_with_word, search_time\n",
        "\n",
        "# Función para buscar una palabra y mostrar los resultados\n",
        "def search_word(word_to_search):\n",
        "    results, search_time = search_word_in_files(word_to_search, \"data\")\n",
        "    if results:\n",
        "        result_str = f\"The word '{word_to_search}' is found in the following books:\\n\"\n",
        "        for book, occurrences in results.items():\n",
        "            result_str += f\"- {book}: {occurrences} times\\n\"\n",
        "        result_str += f\"\\nSearch time: {search_time:.4f} seconds\"  # Añade el tiempo de búsqueda al resultado\n",
        "        output_label.value = result_str\n",
        "    else:\n",
        "        output_label.value = f\"The word '{word_to_search}' was not found in any of the books.\"\n",
        "\n",
        "# Widget de entrada para la palabra a buscar\n",
        "search_widget = widgets.Text(\n",
        "    value='',\n",
        "    placeholder='Enter word...',\n",
        "    description='Word to search:',\n",
        "    disabled=False\n",
        ")\n",
        "\n",
        "# Widget de salida para mostrar los resultados\n",
        "output_label = widgets.Label(\n",
        "    value='',\n",
        "    description='Search Results:'\n",
        ")\n",
        "\n",
        "# Función para manejar la búsqueda cuando se presiona Enter\n",
        "def handle_enter(sender):\n",
        "    search_word(search_widget.value)\n",
        "\n",
        "search_widget.on_submit(handle_enter)\n",
        "\n",
        "VBox([search_widget, output_label])"
      ],
      "metadata": {
        "colab": {
          "base_uri": "https://localhost:8080/",
          "height": 81,
          "referenced_widgets": [
            "2448ad58ed25410fad01643350bb334c",
            "89d95f7321634f3d8a9296965557fae8",
            "9a8ee5c6f7a14198a6da9e1905d4ecd1",
            "92e83bb9078542f89b2c8ace7e8e8705",
            "e5fafb321bec436caf49f93babbe5d49",
            "8eb10bf95bc84cfca7447899eb3d523d",
            "81b65ed95681485aa6572f360b14b32e",
            "a376db39518340509b41ff02b7d2570a"
          ]
        },
        "id": "nfPRm6kf8br4",
        "outputId": "b055430d-5b75-4bf4-e68a-6fd8c665b670"
      },
      "execution_count": 48,
      "outputs": [
        {
          "output_type": "display_data",
          "data": {
            "text/plain": [
              "VBox(children=(Text(value='', description='Word to search:', placeholder='Enter word...'), Label(value='', des…"
            ],
            "application/vnd.jupyter.widget-view+json": {
              "version_major": 2,
              "version_minor": 0,
              "model_id": "2448ad58ed25410fad01643350bb334c"
            }
          },
          "metadata": {}
        }
      ]
    },
    {
      "cell_type": "markdown",
      "source": [
        "2. Term Search in Documents with basic boolean"
      ],
      "metadata": {
        "id": "jHoNbeAo_49H"
      }
    },
    {
      "cell_type": "code",
      "source": [
        "def create_boolean_matrix(folder):\n",
        "    books = []\n",
        "    words_in_books = {}\n",
        "    unique_words = set()\n",
        "\n",
        "    # Expresión regular para eliminar caracteres no deseados\n",
        "    pattern = re.compile(r\"[^\\w']\")\n",
        "\n",
        "    # Recorre los archivos de la carpeta\n",
        "    for file in os.listdir(folder):\n",
        "        if file.endswith('.txt'):\n",
        "            books.append(file)\n",
        "            file_path = os.path.join(folder, file)\n",
        "            with open(file_path, 'r', encoding='utf-8') as f:\n",
        "                content = f.read()\n",
        "\n",
        "                # Eliminar caracteres no deseados y dividir en palabras\n",
        "                words = set(pattern.sub(' ', content).lower().split())\n",
        "\n",
        "                for word in words:\n",
        "                    # Ignorar palabras vacías y números\n",
        "                    if word.isalpha():\n",
        "                        unique_words.add(word)\n",
        "                        if word in words_in_books:\n",
        "                            words_in_books[word].append(1)\n",
        "                        else:\n",
        "                            words_in_books[word] = [1 if book == file else 0 for book in books]\n",
        "\n",
        "    # Construye el DataFrame\n",
        "    df = pd.DataFrame(words_in_books, index=books).T\n",
        "    df.index.name = \"Words\"\n",
        "\n",
        "    return df\n",
        "\n",
        "# Crear la matriz booleana\n",
        "matrix = create_boolean_matrix(\"data\")\n",
        "\n",
        "# Mostrar la matriz\n",
        "print(matrix)\n",
        "\n",
        "# Función para buscar una palabra en la matriz booleana\n",
        "def search_word_in_matrix(word, matrix):\n",
        "    start_time = time.time()  # Registro del tiempo de inicio\n",
        "    if word.lower() in matrix.index:\n",
        "        books = matrix.loc[word.lower()].loc[matrix.loc[word.lower()] == 1].index.tolist()\n",
        "    else:\n",
        "        books = []\n",
        "    end_time = time.time()  # Registro del tiempo de finalización\n",
        "    search_time = end_time - start_time  # Calcula el tiempo transcurrido\n",
        "    return books, search_time\n",
        "\n",
        "# Función para buscar una palabra y mostrar los resultados\n",
        "def search_word(word_to_search, matrix):\n",
        "    books, search_time = search_word_in_matrix(word_to_search, matrix)\n",
        "    if books:\n",
        "        result_str = f\"The word '{word_to_search}' is found in the following books:\\n\"\n",
        "        for book in books:\n",
        "            result_str += f\"- {book}\\n\"\n",
        "        result_str += f\"\\nSearch time: {search_time:.4f} seconds\"  # Añade el tiempo de búsqueda al resultado\n",
        "        output_label.value = result_str\n",
        "    else:\n",
        "        output_label.value = f\"The word '{word_to_search}' was not found in any of the books.\"\n",
        "\n",
        "# Widget de entrada para la palabra a buscar\n",
        "search_widget = widgets.Text(\n",
        "    value='',\n",
        "    placeholder='Enter word...',\n",
        "    description='Word to search:',\n",
        "    disabled=False\n",
        ")\n",
        "\n",
        "# Widget de salida para mostrar los resultados\n",
        "output_label = widgets.Label(\n",
        "    value='',\n",
        "    description='Search Results:'\n",
        ")\n",
        "\n",
        "# Función para manejar la búsqueda cuando se presiona Enter\n",
        "def handle_enter(sender):\n",
        "    search_word(search_widget.value, matrix)\n",
        "\n",
        "search_widget.on_submit(handle_enter)\n",
        "\n",
        "VBox([search_widget, output_label])"
      ],
      "metadata": {
        "colab": {
          "base_uri": "https://localhost:8080/",
          "height": 341,
          "referenced_widgets": [
            "120129ce536b4aa18ea0cad47ea4d8a1",
            "c01bc460dbb545ab9e9295e3ef847e87",
            "22f4bdc6a23d4be38cf2dd94437d4d84",
            "d470a1e192ed434483063f9f548cc9c0",
            "b81e18bd2c6d45a0b4c900090d9eeedc",
            "b92e52b733644081b91ab5ffa4f3ab3a",
            "9e5795d24a0141f39609045cc4cedfbc",
            "d206e9b6b8134d02bb3bfdfb9c796d0d"
          ]
        },
        "id": "EHLMi3icK3_1",
        "outputId": "c4ad4b0c-7e70-43c9-9f94-d4d3a355242e"
      },
      "execution_count": 53,
      "outputs": [
        {
          "output_type": "stream",
          "name": "stdout",
          "text": [
            "            pg16.txt  pg11.txt\n",
            "Words                         \n",
            "fame               1         1\n",
            "blown              1         1\n",
            "bedspreads         1         1\n",
            "shrieks            1         1\n",
            "silence            1         1\n",
            "...              ...       ...\n",
            "unpleasant         0         1\n",
            "gained             0         1\n",
            "neighbour          0         1\n",
            "denial             0         1\n",
            "belongs            0         1\n",
            "\n",
            "[6054 rows x 2 columns]\n"
          ]
        },
        {
          "output_type": "display_data",
          "data": {
            "text/plain": [
              "VBox(children=(Text(value='', description='Word to search:', placeholder='Enter word...'), Label(value='', des…"
            ],
            "application/vnd.jupyter.widget-view+json": {
              "version_major": 2,
              "version_minor": 0,
              "model_id": "120129ce536b4aa18ea0cad47ea4d8a1"
            }
          },
          "metadata": {}
        }
      ]
    },
    {
      "cell_type": "markdown",
      "source": [
        "Conclusion\n",
        "\n",
        "The time is less when we use an array that has the indexes of words and books with its Boolean result, than the iteration that we saw in the first class with the use of a for and if loop."
      ],
      "metadata": {
        "id": "sGxR_LddAqeJ"
      }
    }
  ]
}